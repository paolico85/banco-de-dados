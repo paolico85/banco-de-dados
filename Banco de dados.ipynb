{
    "metadata": {
        "kernelspec": {
            "name": "SQL",
            "display_name": "SQL",
            "language": "sql"
        },
        "language_info": {
            "name": "sql",
            "version": ""
        }
    },
    "nbformat_minor": 2,
    "nbformat": 4,
    "cells": [
        {
            "cell_type": "code",
            "source": [
                "use Seguradora"
            ],
            "metadata": {
                "azdata_cell_guid": "967f3e59-69b9-4b74-82d5-a7c0a5b58dc2"
            },
            "outputs": [
                {
                    "output_type": "display_data",
                    "data": {
                        "text/html": "Commands completed successfully."
                    },
                    "metadata": {}
                },
                {
                    "output_type": "display_data",
                    "data": {
                        "text/html": "Total execution time: 00:00:00.001"
                    },
                    "metadata": {}
                }
            ],
            "execution_count": 2
        },
        {
            "cell_type": "code",
            "source": [
                "CREATE TABLE Clientes\r\n",
                "(\r\n",
                "CodCliente INT PRIMARY KEY,\r\n",
                "Nome VARCHAR(45) NOT NULL,\r\n",
                "CPF VARCHAR (45) NOT NULL UNIQUE,\r\n",
                "Sexo VARCHAR (20), \r\n",
                "Estado VARCHAR(45),\r\n",
                "Cidade VARCHAR(45) DEFAULT 'Itapira',\r\n",
                "Bairro VARCHAR(45),\r\n",
                "Numero VARCHAR(45),\r\n",
                "Rua VARCHAR(45),\r\n",
                "TelefoneFixo VARCHAR(45),\r\n",
                "TelefoneCelular VARCHAR(45) NOT NULL UNIQUE,\r\n",
                ");"
            ],
            "metadata": {
                "azdata_cell_guid": "ff3c007f-d81b-4891-b6c5-59360c976227"
            },
            "outputs": [
                {
                    "output_type": "display_data",
                    "data": {
                        "text/html": "Commands completed successfully."
                    },
                    "metadata": {}
                },
                {
                    "output_type": "display_data",
                    "data": {
                        "text/html": "Total execution time: 00:00:00.013"
                    },
                    "metadata": {}
                }
            ],
            "execution_count": 11
        },
        {
            "cell_type": "code",
            "source": [
                "CREATE TABLE Carro\r\n",
                "(\r\n",
                "CodCarro INT PRIMARY KEY,\r\n",
                "Placa VARCHAR(45),\r\n",
                "Marca VARCHAR(45) ,\r\n",
                "Modelo VARCHAR(45) , \r\n",
                "Ano VARCHAR(45),\r\n",
                "Chassi VARCHAR(45),\r\n",
                "Cor VARCHAR(45),\r\n",
                ");"
            ],
            "metadata": {
                "azdata_cell_guid": "88f8cd9b-12e1-4c5b-972a-0982cc4a8b3e"
            },
            "outputs": [
                {
                    "output_type": "error",
                    "evalue": "Msg 2714, Level 16, State 6, Line 1\r\nJá existe um objeto com nome 'Carro' no banco de dados.",
                    "ename": "",
                    "traceback": []
                },
                {
                    "output_type": "display_data",
                    "data": {
                        "text/html": "Total execution time: 00:00:00.002"
                    },
                    "metadata": {}
                }
            ],
            "execution_count": 13
        },
        {
            "cell_type": "code",
            "source": [
                "CREATE TABLE Apolice\r\n",
                "(\r\n",
                "CodApolice INT PRIMARY KEY NOT NULL,\r\n",
                "ValorCobertura DECIMAL NOT NULL  ,\r\n",
                "ValorFranquia DECIMAL NOT NULL  ,\r\n",
                "DataInicioVigencia DATE NOT NULL CHECK > GETDATE , \r\n",
                "DataFimVigencia DATE NOT NULL,\r\n",
                "Cliente_CodCliente INT NOT NULL ,\r\n",
                "Carro_CodCarro INT NOT NULL ,\r\n",
                "Constraint chk_dataInicioVigencia CHECK (DataInicioVigencia >= GETDATE()),\r\n",
                "FOREIGN key (Clientes_CodCliente) REFERENCES Clientes(CodCliente),\r\n",
                "FOREIGN key (Carro_CodCarro) REFERENCES Carro(CodCarro),\r\n",
                ");"
            ],
            "metadata": {
                "azdata_cell_guid": "7f8f0273-5fab-48af-b20e-1db1fdc7ad81"
            },
            "outputs": [
                {
                    "output_type": "error",
                    "evalue": "Msg 102, Level 15, State 1, Line 6\r\nSintaxe incorreta próxima a '>'.",
                    "ename": "",
                    "traceback": []
                },
                {
                    "output_type": "display_data",
                    "data": {
                        "text/html": "Total execution time: 00:00:00"
                    },
                    "metadata": {}
                }
            ],
            "execution_count": 24
        },
        {
            "cell_type": "code",
            "source": [
                "CREATE TABLE Sinistro\r\n",
                "(\r\n",
                "CodSinistro PRIMARY KEY INT,\r\n",
                "HoraSinistro INT ,\r\n",
                "DataSinistro DATE ,\r\n",
                "LocalSinistro VARCHAR(45) , \r\n",
                "Condutor VARCHAR(45),\r\n",
                "Carro_CodCarro  INT ,\r\n",
                "Constraint pk_Sinistro PRIMARY key (CodSinistro, Carro_CodCarro),\r\n",
                "foreign PRIMARY key (CodSinistro_Apolice_CodApolice),\r\n",
                ");"
            ],
            "metadata": {
                "azdata_cell_guid": "85802f9f-138b-46e0-9631-978ff79257f0"
            },
            "outputs": [
                {
                    "output_type": "error",
                    "evalue": "Msg 173, Level 15, State 13, Line 3\r\nA definição da coluna 'CodSinistro' deve incluir um tipo de dados.",
                    "ename": "",
                    "traceback": []
                },
                {
                    "output_type": "display_data",
                    "data": {
                        "text/html": "Total execution time: 00:00:00"
                    },
                    "metadata": {}
                }
            ],
            "execution_count": 22
        }
    ]
}